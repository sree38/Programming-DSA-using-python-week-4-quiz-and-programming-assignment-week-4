{
 "cells": [
  {
   "cell_type": "code",
   "execution_count": 8,
   "id": "a09eda13",
   "metadata": {},
   "outputs": [
    {
     "name": "stdout",
     "output_type": "stream",
     "text": [
      "10\n"
     ]
    }
   ],
   "source": [
    "def h(x):\n",
    "    (d,n) = (1,0)\n",
    "    while d <= x:\n",
    "        (d,n) = (d*3,n+1)\n",
    "    return(n)\n",
    "print (h(27993))"
   ]
  },
  {
   "cell_type": "code",
   "execution_count": 10,
   "id": "32df2a6b",
   "metadata": {},
   "outputs": [
    {
     "name": "stdout",
     "output_type": "stream",
     "text": [
      "10\n",
      "8\n",
      "2\n"
     ]
    }
   ],
   "source": [
    "def g(n): \n",
    "    s=0\n",
    "    for i in range(2,n):\n",
    "        if n%i == 0:\n",
    "           s = s+1\n",
    "    return(s)\n",
    "print(g(60))\n",
    "print(g(48))\n",
    "print(g(60)-g(48))"
   ]
  },
  {
   "cell_type": "code",
   "execution_count": 11,
   "id": "2ecf3572",
   "metadata": {},
   "outputs": [],
   "source": [
    "def f(n): \n",
    "    s=0\n",
    "    for i in range(1,n+1):\n",
    "        if n//i == i and n%i == 0:\n",
    "           s = 1\n",
    "    return(s%2 == 1)\n"
   ]
  },
  {
   "cell_type": "code",
   "execution_count": 3,
   "id": "bf559ad3",
   "metadata": {},
   "outputs": [],
   "source": [
    "x = [[3,5],\"mimsy\",2,\"borogove\",1]  # Statement 1\n",
    "y = x[0:50]                          # Statement 2\n",
    "z = y                                # Statement 3\n",
    "w = x                                # Statement 4\n",
    "x[1] = x[1][:5] + 'ery'              # Statement 5\n",
    "y[1] = 4                             # Statement 6\n",
    "#w[1][:3] = 'fea'                     # Statement 7\n",
    "z[4] = 42                            # Statement 8\n",
    "x[0][0] = 5555                       # Statement 9\n",
    "a = (x[3][1] == 1)                   # Statement 10"
   ]
  },
  {
   "cell_type": "code",
   "execution_count": 4,
   "id": "de9c1743",
   "metadata": {},
   "outputs": [],
   "source": [
    "b = [43,99,65,105,4]\n",
    "a = b[2:]\n",
    "d = b[1:]\n",
    "c = b\n",
    "d[1] = 95\n",
    "b[2] = 47\n",
    "c[3] = 73"
   ]
  },
  {
   "cell_type": "code",
   "execution_count": 6,
   "id": "2dac2040",
   "metadata": {},
   "outputs": [
    {
     "name": "stdout",
     "output_type": "stream",
     "text": [
      "adnocana\n"
     ]
    }
   ],
   "source": [
    "startmsg = \"anaconda\"\n",
    "endmsg = \"\"\n",
    "for i in range(1,1+len(startmsg)):\n",
    "  endmsg = endmsg + startmsg[-i]\n",
    "print(endmsg)"
   ]
  },
  {
   "cell_type": "code",
   "execution_count": 7,
   "id": "6d8d3cfc",
   "metadata": {},
   "outputs": [
    {
     "data": {
      "text/plain": [
       "[13, 17, 19, 21]"
      ]
     },
     "execution_count": 7,
     "metadata": {},
     "output_type": "execute_result"
    }
   ],
   "source": [
    "def mystery(l):\n",
    "  l = l[2:]\n",
    "  return(l)\n",
    "\n",
    "mylist = [7,11,13,17,19,21]\n",
    "mystery(mylist)"
   ]
  },
  {
   "cell_type": "code",
   "execution_count": 12,
   "id": "a8fb8b87",
   "metadata": {},
   "outputs": [
    {
     "name": "stdout",
     "output_type": "stream",
     "text": [
      "11513\n",
      "4\n",
      "53243242353151\n"
     ]
    }
   ],
   "source": [
    "#Write a function intreverse(n) that takes as input a positive integer n and returns the integer obtained by reversing the digits in n.\n",
    "\n",
    "#Here are some examples of how your function should work.\n",
    "def intreverse(n):\n",
    "  ans = 0\n",
    "  while n > 0:\n",
    "    (d,n) = (n%10,n//10)\n",
    "    ans = 10*ans + d\n",
    "  return(ans)\n",
    "print(intreverse(31511))\n",
    "print(intreverse(4))\n",
    "print(intreverse(15135324234235))\n",
    "\n",
    "\n"
   ]
  },
  {
   "cell_type": "code",
   "execution_count": 13,
   "id": "04f0c746",
   "metadata": {},
   "outputs": [
    {
     "name": "stdout",
     "output_type": "stream",
     "text": [
      "True\n",
      "False\n",
      "False\n"
     ]
    }
   ],
   "source": [
    "#Write a function matched(s) that takes as input a string s and checks if the brackets \"(\" and \")\" in s are matched: that is, every \"(\" has a matching \")\" after it and every \")\" has a matching \"(\" before it. Your function should ignore all other symbols that appear in s. Your function should return True if s has matched brackets and False if it does not.\n",
    "\n",
    "def matched(s):\n",
    "  nested = 0\n",
    "  for i in range(0,len(s)):\n",
    "    if s[i] == \"(\":\n",
    "       nested = nested+1\n",
    "    elif s[i] == \")\":\n",
    "       nested = nested-1\n",
    "       if nested < 0:\n",
    "          return(False)    \n",
    "  return(nested == 0)\n",
    "print(matched(\"a3qw3;4w3(aasdgsd)((agadsgdsgag)agaga)\"))\n",
    "print(matched(\"(ag(Gaga(agag)Gaga)GG)a)33)cc(\"))\n",
    "print(matched(\"(adsgdsg(agaga)a\"))\n"
   ]
  },
  {
   "cell_type": "code",
   "execution_count": 25,
   "id": "182845ff",
   "metadata": {},
   "outputs": [
    {
     "name": "stdout",
     "output_type": "stream",
     "text": [
      "198\n",
      "802\n",
      "57\n"
     ]
    }
   ],
   "source": [
    "#Write a function sumprimes(l) that takes as input a list of integers l and retuns the sum of all the prime numbers in l.\n",
    "\n",
    "def factors(n):\n",
    "  factorlist = []\n",
    "  for i in range(1,n+1):\n",
    "    if n%i == 0:\n",
    "      factorlist = factorlist + [i]\n",
    "  return(factorlist)\n",
    "\n",
    "def isprime(n):\n",
    "  return(factors(n) == [1,n])\n",
    "\n",
    "\n",
    "def sumprimes(l):\n",
    "  sum = 0\n",
    "  for i in range(0,len(l)):\n",
    "    if isprime(l[i]):\n",
    "      sum = sum+l[i]\n",
    "  return(sum)\n",
    "print(sumprimes([101,93,97,44]))\n",
    "print(sumprimes([1001,393,743,59]))\n",
    "print(sumprimes([11,11,11,13,11,-11]))"
   ]
  },
  {
   "cell_type": "code",
   "execution_count": 28,
   "id": "c7c00b41",
   "metadata": {},
   "outputs": [],
   "source": [
    "#Write a function contracting(l) that takes as input a list of integer l and returns True if the absolute difference between each adjacent pair of elements strictly decreases.\n",
    "\n",
    "def contracting(l):\n",
    "  for z in range(0,len(l)-3):\n",
    "    A=abs(l[z+2]-l[z+1])\n",
    "    B=abs(l[z+1]-l[z])\n",
    "    if A<B:\n",
    "      continue\n",
    "    else:\n",
    "      return (False) \n",
    "  return (True)\n",
    "  contracting([9,2,7,3,1])\n",
    "  print(contracting([-2,3,7,2,-1]))\n",
    "  print(contracting([10,7,4,1]))\n"
   ]
  },
  {
   "cell_type": "code",
   "execution_count": 4,
   "id": "10822969",
   "metadata": {},
   "outputs": [
    {
     "name": "stdout",
     "output_type": "stream",
     "text": [
      "[55, 82, 65, 19, 14, 22]\n"
     ]
    }
   ],
   "source": [
    "def mystery(l):\n",
    "    if l == []:\n",
    "        return(l)\n",
    "    else:\n",
    "        return(mystery(l[1:])+l[:1])\n",
    "print(mystery([22,14,19,65,82,55]))"
   ]
  },
  {
   "cell_type": "code",
   "execution_count": 5,
   "id": "922990e3",
   "metadata": {},
   "outputs": [],
   "source": [
    "pairs = [ (x,y) for x in range(4,1,-1) for y in range(5,1,-1) if (x+y)%3 == 0 ]"
   ]
  },
  {
   "cell_type": "code",
   "execution_count": 14,
   "id": "1cf53150",
   "metadata": {},
   "outputs": [],
   "source": [
    "wickets = {\"Tests\":{\"Bumrah\":[3,5,2,3],\"Shami\":[4,4,1,0],\"Ashwin\":[2,1,7,4]},\"ODI\":{\"Bumrah\":[2,0],\"Shami\":[1,2]}}\n",
    " #wickets[\"ODI\"][\"Ashwin\"][0:] = [4,4]\n",
    " #wickets[\"ODI\"][\"Ashwin\"].extend([4,4])\n",
    "wickets[\"ODI\"][\"Ashwin\"] = [4,4]\n",
    " #wickets[\"ODI\"][\"Ashwin\"] = wickets[\"ODI\"][\"Ashwin\"] + [4,4]\n"
   ]
  },
  {
   "cell_type": "code",
   "execution_count": 19,
   "id": "f453f215",
   "metadata": {},
   "outputs": [],
   "source": [
    "hundreds = {}\n",
    "hundreds[\"Tendulkar, international\"] = 100\n",
    "hundreds[\"Tendulkar\"] = {\"international\":100}\n",
    "hundreds[(\"Tendulkar\",\"international\")] = 100\n",
    "#hundreds[[\"Tendulkar\",\"international\"]] = 100\n"
   ]
  },
  {
   "cell_type": "code",
   "execution_count": 21,
   "id": "1154cf3d",
   "metadata": {},
   "outputs": [
    {
     "name": "stdout",
     "output_type": "stream",
     "text": [
      "([7], [13])\n",
      "([7], [13, 14])\n",
      "([7, 11, 12], [13, 14])\n"
     ]
    }
   ],
   "source": [
    "def frequency(l):\n",
    "    SET=set(l)\n",
    "    LIST=list(SET)\n",
    "    newl=list()\n",
    "    for a in LIST:\n",
    "        newl.append(l.count(a))\n",
    "    mi=min(newl)\n",
    "    ma=max(newl)\n",
    "    mil=[]\n",
    "    mal=[]\n",
    "    for b in range(len(newl)):\n",
    "        if newl[b]==mi:\n",
    "\n",
    "             mil.append(LIST[b])\n",
    "        if newl[b]==ma:\n",
    "                    \n",
    "             mal.append(LIST[b])\n",
    "    mil.sort()\n",
    "    mal.sort()\n",
    "    return(mil,mal) \n",
    "print(frequency([13,12,11,13,14,13,7,11,13,14,12]))\n",
    "print(frequency([13,12,11,13,14,13,7,11,13,14,12,14,14]))\n",
    "print(frequency([13,12,11,13,14,13,7,11,13,14,12,14,14,7]))\n",
    "\n"
   ]
  },
  {
   "cell_type": "code",
   "execution_count": 23,
   "id": "507721d9",
   "metadata": {},
   "outputs": [
    {
     "name": "stdout",
     "output_type": "stream",
     "text": [
      "[(1, 3)]\n",
      "[(1, 2), (1, 3), (1, 4), (2, 3), (2, 4), (3, 1), (3, 2), (4, 1), (4, 2)]\n",
      "[]\n"
     ]
    }
   ],
   "source": [
    "def onehop(l):\n",
    "    ans=list()\n",
    "    l.sort()\n",
    "    for x in range(len(l)):\n",
    "         for y in range(len(l)):\n",
    "            if l[x]!=l[y]:\n",
    "                if l[x][1]==l[y][0]:\n",
    "                    q=l[x][0]\n",
    "                    w=l[y][1]\n",
    "                    if q!=w:\n",
    "                        t=[q,w]\n",
    "                        t=tuple(t)\n",
    "                        if t not in ans:\n",
    "                            ans.append(tuple(t)) \n",
    "    ans.sort()          \n",
    "    return (ans)   \n",
    "print(onehop([(2,3),(1,2)]))\n",
    "print(onehop(onehop([(2,3),(1,2),(3,1),(1,3),(3,2),(2,4),(4,1)])))\n",
    "print(onehop([(1,2),(3,4),(5,6)]))\n"
   ]
  },
  {
   "cell_type": "code",
   "execution_count": null,
   "id": "6c7e49d5",
   "metadata": {},
   "outputs": [],
   "source": []
  }
 ],
 "metadata": {
  "kernelspec": {
   "display_name": "Python 3 (ipykernel)",
   "language": "python",
   "name": "python3"
  },
  "language_info": {
   "codemirror_mode": {
    "name": "ipython",
    "version": 3
   },
   "file_extension": ".py",
   "mimetype": "text/x-python",
   "name": "python",
   "nbconvert_exporter": "python",
   "pygments_lexer": "ipython3",
   "version": "3.9.12"
  }
 },
 "nbformat": 4,
 "nbformat_minor": 5
}
